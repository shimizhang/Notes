{
 "cells": [
  {
   "cell_type": "code",
   "execution_count": 1,
   "metadata": {},
   "outputs": [],
   "source": [
    "import pandas as pd\n",
    "import numpy as np\n",
    "import matplotlib.pyplot as plt\n",
    "import seaborn as sns\n",
    "import plotly\n",
    "\n",
    "from IPython.core.interactiveshell import InteractiveShell\n",
    "InteractiveShell.ast_node_interactivity = \"all\"\n",
    "\n",
    "import warnings\n",
    "warnings.filterwarnings(\"ignore\")"
   ]
  },
  {
   "cell_type": "code",
   "execution_count": 2,
   "metadata": {},
   "outputs": [],
   "source": [
    "import pandas as pd\n",
    "pd.set_option('display.max_rows', 500)\n",
    "pd.set_option('display.max_columns', 500)\n",
    "pd.set_option('display.width', 1000)"
   ]
  },
  {
   "cell_type": "code",
   "execution_count": 3,
   "metadata": {},
   "outputs": [],
   "source": [
    "df = pd.read_excel(\"./2017-2020 Data Including Apps.xlsx\")"
   ]
  },
  {
   "cell_type": "code",
   "execution_count": 4,
   "metadata": {},
   "outputs": [
    {
     "data": {
      "text/plain": [
       "(19554, 69)"
      ]
     },
     "execution_count": 4,
     "metadata": {},
     "output_type": "execute_result"
    }
   ],
   "source": [
    "df.shape"
   ]
  },
  {
   "cell_type": "code",
   "execution_count": 344,
   "metadata": {},
   "outputs": [],
   "source": [
    "#df.info()"
   ]
  },
  {
   "cell_type": "code",
   "execution_count": 345,
   "metadata": {
    "scrolled": true
   },
   "outputs": [],
   "source": [
    "#df.head(5).T"
   ]
  },
  {
   "cell_type": "code",
   "execution_count": 5,
   "metadata": {},
   "outputs": [
    {
     "data": {
      "text/plain": [
       "Index(['RecordNUM', 'Period', 'TAB_APPLIED', 'TAB_ADMITTED', 'TAB_ENROLLED', 'bo_applied', 'bo_admitted', 'bo_enrollflag', 'rl_GPARating', 'rl_AcademicRating', 'rl_SuperScore_BestConcorded', 'bo_ED1', 'bo_ED2', 'bo_PathwayRecruit', 'bo_RD', 'bo_internationalstudent', 'bo_permresident', 'bo_UScitizen', 'bo_InStateResident', 'bo_TargetState1', 'bo_TargetState2', 'bo_TargetState3', 'bo_TargetState4', 'bo_TargetState5', 'bo_TargetState6', 'bo_IPEDS_AmerIndianAlaska', 'bo_IPEDS_Asian', 'bo_IPEDS_Black', 'bo_IPEDS_HawaiianPacificIslander', 'bo_IPEDS_hispanic', 'bo_IPEDS_White', 'bo_IPEDS_MultiRacial', 'bo_IPEDS_Unkown', 'bo_female', 'bo_male', 'bo_legacy', 'bo_testoptional', 'bo_FS_Stealth', 'bo_athlete', 'bo_CampusVisiPreMarch1', 'rl_TouchPointsBeforeAdmitted', 'bo_FAFSA_filer', 'bo_Profile_filer', 'rl_FM_EFC', 'rl_IM_TFC', 'rl_FM_need', 'rl_IM_need', 'rl_instaid', 'rl_tuitionrevenue', 'rl_tuitionfeesrevenue', 'rl_totalrevenue', 'rl_tuition', 'rl_tuitionfees', 'rl_roomboard',\n",
       "       'rl_directCOA', 'st_Round', 'st_Citizenship', 'st_Geography', 'st_RaceEthnicity', 'st_Gender', 'st_Legacy', 'st_TestOptional', 'st_StealthApplicant', 'st_Athlete', 'st_CampusVisit', 'st_FAFSAFiler', 'st_ProfileFiler', 'Submitted', 'PRED_ENROLL'],\n",
       "      dtype='object')"
      ]
     },
     "execution_count": 5,
     "metadata": {},
     "output_type": "execute_result"
    }
   ],
   "source": [
    "df.columns"
   ]
  },
  {
   "cell_type": "code",
   "execution_count": 7,
   "metadata": {},
   "outputs": [],
   "source": [
    "duplicate_columns = ['TAB_APPLIED', 'TAB_ADMITTED', 'TAB_ENROLLED','st_Round',\n",
    "       'st_Citizenship', 'st_Geography', 'st_RaceEthnicity', 'st_Gender',\n",
    "       'st_Legacy', 'st_TestOptional', 'st_StealthApplicant', 'st_Athlete',\n",
    "       'st_CampusVisit', 'st_FAFSAFiler', 'st_ProfileFiler','PRED_ENROLL','Submitted']"
   ]
  },
  {
   "cell_type": "code",
   "execution_count": 8,
   "metadata": {
    "scrolled": true
   },
   "outputs": [],
   "source": [
    "data = df.drop(duplicate_columns,axis=1)"
   ]
  },
  {
   "cell_type": "code",
   "execution_count": 9,
   "metadata": {
    "scrolled": false
   },
   "outputs": [
    {
     "data": {
      "text/plain": [
       "rl_GPARating                        0.531093\n",
       "rl_AcademicRating                   0.485067\n",
       "rl_FM_EFC                           0.483533\n",
       "rl_IM_need                          0.450956\n",
       "rl_IM_TFC                           0.450956\n",
       "rl_SuperScore_BestConcorded         0.250332\n",
       "rl_directCOA                        0.000000\n",
       "bo_permresident                     0.000000\n",
       "bo_TargetState6                     0.000000\n",
       "bo_TargetState5                     0.000000\n",
       "bo_TargetState4                     0.000000\n",
       "bo_TargetState3                     0.000000\n",
       "bo_TargetState2                     0.000000\n",
       "bo_TargetState1                     0.000000\n",
       "bo_InStateResident                  0.000000\n",
       "bo_UScitizen                        0.000000\n",
       "bo_ED2                              0.000000\n",
       "bo_internationalstudent             0.000000\n",
       "bo_RD                               0.000000\n",
       "bo_PathwayRecruit                   0.000000\n",
       "bo_IPEDS_Asian                      0.000000\n",
       "bo_ED1                              0.000000\n",
       "bo_enrollflag                       0.000000\n",
       "bo_admitted                         0.000000\n",
       "bo_applied                          0.000000\n",
       "Period                              0.000000\n",
       "bo_IPEDS_AmerIndianAlaska           0.000000\n",
       "bo_IPEDS_HawaiianPacificIslander    0.000000\n",
       "bo_IPEDS_Black                      0.000000\n",
       "rl_roomboard                        0.000000\n",
       "rl_tuitionfees                      0.000000\n",
       "rl_tuition                          0.000000\n",
       "rl_totalrevenue                     0.000000\n",
       "rl_tuitionfeesrevenue               0.000000\n",
       "rl_tuitionrevenue                   0.000000\n",
       "rl_instaid                          0.000000\n",
       "rl_FM_need                          0.000000\n",
       "bo_Profile_filer                    0.000000\n",
       "bo_FAFSA_filer                      0.000000\n",
       "rl_TouchPointsBeforeAdmitted        0.000000\n",
       "bo_CampusVisiPreMarch1              0.000000\n",
       "bo_athlete                          0.000000\n",
       "bo_FS_Stealth                       0.000000\n",
       "bo_testoptional                     0.000000\n",
       "bo_legacy                           0.000000\n",
       "bo_male                             0.000000\n",
       "bo_female                           0.000000\n",
       "bo_IPEDS_Unkown                     0.000000\n",
       "bo_IPEDS_MultiRacial                0.000000\n",
       "bo_IPEDS_White                      0.000000\n",
       "bo_IPEDS_hispanic                   0.000000\n",
       "RecordNUM                           0.000000\n",
       "dtype: float64"
      ]
     },
     "execution_count": 9,
     "metadata": {},
     "output_type": "execute_result"
    }
   ],
   "source": [
    "(data.isnull().sum()/data.shape[0]).sort_values(ascending=False)"
   ]
  },
  {
   "cell_type": "code",
   "execution_count": 10,
   "metadata": {
    "scrolled": false
   },
   "outputs": [
    {
     "data": {
      "text/html": [
       "<div>\n",
       "<style scoped>\n",
       "    .dataframe tbody tr th:only-of-type {\n",
       "        vertical-align: middle;\n",
       "    }\n",
       "\n",
       "    .dataframe tbody tr th {\n",
       "        vertical-align: top;\n",
       "    }\n",
       "\n",
       "    .dataframe thead th {\n",
       "        text-align: right;\n",
       "    }\n",
       "</style>\n",
       "<table border=\"1\" class=\"dataframe\">\n",
       "  <thead>\n",
       "    <tr style=\"text-align: right;\">\n",
       "      <th></th>\n",
       "      <th>RecordNUM</th>\n",
       "      <th>Period</th>\n",
       "      <th>bo_applied</th>\n",
       "      <th>bo_admitted</th>\n",
       "      <th>bo_enrollflag</th>\n",
       "      <th>rl_GPARating</th>\n",
       "      <th>rl_AcademicRating</th>\n",
       "      <th>rl_SuperScore_BestConcorded</th>\n",
       "      <th>bo_ED1</th>\n",
       "      <th>bo_ED2</th>\n",
       "      <th>bo_PathwayRecruit</th>\n",
       "      <th>bo_RD</th>\n",
       "      <th>bo_internationalstudent</th>\n",
       "      <th>bo_permresident</th>\n",
       "      <th>bo_UScitizen</th>\n",
       "      <th>bo_InStateResident</th>\n",
       "      <th>bo_TargetState1</th>\n",
       "      <th>bo_TargetState2</th>\n",
       "      <th>bo_TargetState3</th>\n",
       "      <th>bo_TargetState4</th>\n",
       "      <th>bo_TargetState5</th>\n",
       "      <th>bo_TargetState6</th>\n",
       "      <th>bo_IPEDS_AmerIndianAlaska</th>\n",
       "      <th>bo_IPEDS_Asian</th>\n",
       "      <th>bo_IPEDS_Black</th>\n",
       "      <th>bo_IPEDS_HawaiianPacificIslander</th>\n",
       "      <th>bo_IPEDS_hispanic</th>\n",
       "      <th>bo_IPEDS_White</th>\n",
       "      <th>bo_IPEDS_MultiRacial</th>\n",
       "      <th>bo_IPEDS_Unkown</th>\n",
       "      <th>bo_female</th>\n",
       "      <th>bo_male</th>\n",
       "      <th>bo_legacy</th>\n",
       "      <th>bo_testoptional</th>\n",
       "      <th>bo_FS_Stealth</th>\n",
       "      <th>bo_athlete</th>\n",
       "      <th>bo_CampusVisiPreMarch1</th>\n",
       "      <th>rl_TouchPointsBeforeAdmitted</th>\n",
       "      <th>bo_FAFSA_filer</th>\n",
       "      <th>bo_Profile_filer</th>\n",
       "      <th>rl_FM_EFC</th>\n",
       "      <th>rl_IM_TFC</th>\n",
       "      <th>rl_FM_need</th>\n",
       "      <th>rl_IM_need</th>\n",
       "      <th>rl_instaid</th>\n",
       "      <th>rl_tuitionrevenue</th>\n",
       "      <th>rl_tuitionfeesrevenue</th>\n",
       "      <th>rl_totalrevenue</th>\n",
       "      <th>rl_tuition</th>\n",
       "      <th>rl_tuitionfees</th>\n",
       "      <th>rl_roomboard</th>\n",
       "      <th>rl_directCOA</th>\n",
       "    </tr>\n",
       "  </thead>\n",
       "  <tbody>\n",
       "    <tr>\n",
       "      <th>count</th>\n",
       "      <td>19554.000000</td>\n",
       "      <td>19554.000000</td>\n",
       "      <td>19554.0</td>\n",
       "      <td>19554.000000</td>\n",
       "      <td>19554.000000</td>\n",
       "      <td>9169.000000</td>\n",
       "      <td>10069.000000</td>\n",
       "      <td>14659.000000</td>\n",
       "      <td>19554.000000</td>\n",
       "      <td>19554.000000</td>\n",
       "      <td>19554.000000</td>\n",
       "      <td>19554.000000</td>\n",
       "      <td>19554.000000</td>\n",
       "      <td>19554.000000</td>\n",
       "      <td>19554.000000</td>\n",
       "      <td>19554.000000</td>\n",
       "      <td>19554.000000</td>\n",
       "      <td>19554.000000</td>\n",
       "      <td>19554.000000</td>\n",
       "      <td>19554.000000</td>\n",
       "      <td>19554.000000</td>\n",
       "      <td>19554.000000</td>\n",
       "      <td>19554.000000</td>\n",
       "      <td>19554.000000</td>\n",
       "      <td>19554.000000</td>\n",
       "      <td>19554.000000</td>\n",
       "      <td>19554.000000</td>\n",
       "      <td>19554.000000</td>\n",
       "      <td>19554.000000</td>\n",
       "      <td>19554.00000</td>\n",
       "      <td>19554.000000</td>\n",
       "      <td>19554.000000</td>\n",
       "      <td>19554.000000</td>\n",
       "      <td>19554.000000</td>\n",
       "      <td>19554.000000</td>\n",
       "      <td>19554.000000</td>\n",
       "      <td>19554.000000</td>\n",
       "      <td>19554.000000</td>\n",
       "      <td>19554.000000</td>\n",
       "      <td>19554.000000</td>\n",
       "      <td>10099.000000</td>\n",
       "      <td>1.073600e+04</td>\n",
       "      <td>19554.000000</td>\n",
       "      <td>10736.000000</td>\n",
       "      <td>19554.000000</td>\n",
       "      <td>19554.000000</td>\n",
       "      <td>19554.000000</td>\n",
       "      <td>19554.000000</td>\n",
       "      <td>19554.000000</td>\n",
       "      <td>19554.000000</td>\n",
       "      <td>19554.000000</td>\n",
       "      <td>19554.000000</td>\n",
       "    </tr>\n",
       "    <tr>\n",
       "      <th>mean</th>\n",
       "      <td>9777.500000</td>\n",
       "      <td>2018.126317</td>\n",
       "      <td>1.0</td>\n",
       "      <td>0.323412</td>\n",
       "      <td>0.081262</td>\n",
       "      <td>3.704548</td>\n",
       "      <td>6.451187</td>\n",
       "      <td>1328.436797</td>\n",
       "      <td>0.036463</td>\n",
       "      <td>0.023115</td>\n",
       "      <td>0.018206</td>\n",
       "      <td>0.922215</td>\n",
       "      <td>0.292626</td>\n",
       "      <td>0.021479</td>\n",
       "      <td>0.685895</td>\n",
       "      <td>0.161706</td>\n",
       "      <td>0.146313</td>\n",
       "      <td>0.102537</td>\n",
       "      <td>0.035133</td>\n",
       "      <td>0.053646</td>\n",
       "      <td>0.039685</td>\n",
       "      <td>0.028230</td>\n",
       "      <td>0.000767</td>\n",
       "      <td>0.231001</td>\n",
       "      <td>0.133783</td>\n",
       "      <td>0.000921</td>\n",
       "      <td>0.165490</td>\n",
       "      <td>0.398793</td>\n",
       "      <td>0.032014</td>\n",
       "      <td>0.03723</td>\n",
       "      <td>0.538048</td>\n",
       "      <td>0.456377</td>\n",
       "      <td>0.042191</td>\n",
       "      <td>0.209778</td>\n",
       "      <td>0.491306</td>\n",
       "      <td>0.056050</td>\n",
       "      <td>0.300041</td>\n",
       "      <td>6.770328</td>\n",
       "      <td>0.516569</td>\n",
       "      <td>0.553186</td>\n",
       "      <td>34813.152589</td>\n",
       "      <td>4.214321e+04</td>\n",
       "      <td>22884.272834</td>\n",
       "      <td>50945.274776</td>\n",
       "      <td>5642.390201</td>\n",
       "      <td>2590.918738</td>\n",
       "      <td>2617.636034</td>\n",
       "      <td>3885.933569</td>\n",
       "      <td>57572.009308</td>\n",
       "      <td>57907.680270</td>\n",
       "      <td>14444.992840</td>\n",
       "      <td>73567.673110</td>\n",
       "    </tr>\n",
       "    <tr>\n",
       "      <th>std</th>\n",
       "      <td>5644.897918</td>\n",
       "      <td>0.834913</td>\n",
       "      <td>0.0</td>\n",
       "      <td>0.467790</td>\n",
       "      <td>0.273244</td>\n",
       "      <td>1.156995</td>\n",
       "      <td>1.895336</td>\n",
       "      <td>130.783741</td>\n",
       "      <td>0.187444</td>\n",
       "      <td>0.150274</td>\n",
       "      <td>0.133699</td>\n",
       "      <td>0.267839</td>\n",
       "      <td>0.454980</td>\n",
       "      <td>0.144978</td>\n",
       "      <td>0.464170</td>\n",
       "      <td>0.368190</td>\n",
       "      <td>0.353429</td>\n",
       "      <td>0.303360</td>\n",
       "      <td>0.184122</td>\n",
       "      <td>0.225324</td>\n",
       "      <td>0.195223</td>\n",
       "      <td>0.165632</td>\n",
       "      <td>0.027687</td>\n",
       "      <td>0.421484</td>\n",
       "      <td>0.340428</td>\n",
       "      <td>0.030327</td>\n",
       "      <td>0.371632</td>\n",
       "      <td>0.489663</td>\n",
       "      <td>0.176041</td>\n",
       "      <td>0.18933</td>\n",
       "      <td>0.498563</td>\n",
       "      <td>0.498106</td>\n",
       "      <td>0.201029</td>\n",
       "      <td>0.407161</td>\n",
       "      <td>0.499937</td>\n",
       "      <td>0.230024</td>\n",
       "      <td>0.458287</td>\n",
       "      <td>3.938822</td>\n",
       "      <td>0.499738</td>\n",
       "      <td>0.497176</td>\n",
       "      <td>72627.985010</td>\n",
       "      <td>6.341559e+05</td>\n",
       "      <td>31166.961163</td>\n",
       "      <td>25696.798907</td>\n",
       "      <td>15057.351289</td>\n",
       "      <td>11327.653850</td>\n",
       "      <td>11397.224339</td>\n",
       "      <td>14943.125453</td>\n",
       "      <td>1809.565561</td>\n",
       "      <td>1846.982331</td>\n",
       "      <td>362.010516</td>\n",
       "      <td>2208.562957</td>\n",
       "    </tr>\n",
       "    <tr>\n",
       "      <th>min</th>\n",
       "      <td>1.000000</td>\n",
       "      <td>2017.000000</td>\n",
       "      <td>1.0</td>\n",
       "      <td>0.000000</td>\n",
       "      <td>0.000000</td>\n",
       "      <td>1.000000</td>\n",
       "      <td>1.000000</td>\n",
       "      <td>710.000000</td>\n",
       "      <td>0.000000</td>\n",
       "      <td>0.000000</td>\n",
       "      <td>0.000000</td>\n",
       "      <td>0.000000</td>\n",
       "      <td>0.000000</td>\n",
       "      <td>0.000000</td>\n",
       "      <td>0.000000</td>\n",
       "      <td>0.000000</td>\n",
       "      <td>0.000000</td>\n",
       "      <td>0.000000</td>\n",
       "      <td>0.000000</td>\n",
       "      <td>0.000000</td>\n",
       "      <td>0.000000</td>\n",
       "      <td>0.000000</td>\n",
       "      <td>0.000000</td>\n",
       "      <td>0.000000</td>\n",
       "      <td>0.000000</td>\n",
       "      <td>0.000000</td>\n",
       "      <td>0.000000</td>\n",
       "      <td>0.000000</td>\n",
       "      <td>0.000000</td>\n",
       "      <td>0.00000</td>\n",
       "      <td>0.000000</td>\n",
       "      <td>0.000000</td>\n",
       "      <td>0.000000</td>\n",
       "      <td>0.000000</td>\n",
       "      <td>0.000000</td>\n",
       "      <td>0.000000</td>\n",
       "      <td>0.000000</td>\n",
       "      <td>0.000000</td>\n",
       "      <td>0.000000</td>\n",
       "      <td>0.000000</td>\n",
       "      <td>0.000000</td>\n",
       "      <td>0.000000e+00</td>\n",
       "      <td>0.000000</td>\n",
       "      <td>0.000000</td>\n",
       "      <td>400.000000</td>\n",
       "      <td>-11955.000000</td>\n",
       "      <td>-11570.000000</td>\n",
       "      <td>0.000000</td>\n",
       "      <td>55130.000000</td>\n",
       "      <td>55430.000000</td>\n",
       "      <td>13945.000000</td>\n",
       "      <td>70590.000000</td>\n",
       "    </tr>\n",
       "    <tr>\n",
       "      <th>25%</th>\n",
       "      <td>4889.250000</td>\n",
       "      <td>2017.000000</td>\n",
       "      <td>1.0</td>\n",
       "      <td>0.000000</td>\n",
       "      <td>0.000000</td>\n",
       "      <td>3.000000</td>\n",
       "      <td>5.000000</td>\n",
       "      <td>1260.000000</td>\n",
       "      <td>0.000000</td>\n",
       "      <td>0.000000</td>\n",
       "      <td>0.000000</td>\n",
       "      <td>1.000000</td>\n",
       "      <td>0.000000</td>\n",
       "      <td>0.000000</td>\n",
       "      <td>0.000000</td>\n",
       "      <td>0.000000</td>\n",
       "      <td>0.000000</td>\n",
       "      <td>0.000000</td>\n",
       "      <td>0.000000</td>\n",
       "      <td>0.000000</td>\n",
       "      <td>0.000000</td>\n",
       "      <td>0.000000</td>\n",
       "      <td>0.000000</td>\n",
       "      <td>0.000000</td>\n",
       "      <td>0.000000</td>\n",
       "      <td>0.000000</td>\n",
       "      <td>0.000000</td>\n",
       "      <td>0.000000</td>\n",
       "      <td>0.000000</td>\n",
       "      <td>0.00000</td>\n",
       "      <td>0.000000</td>\n",
       "      <td>0.000000</td>\n",
       "      <td>0.000000</td>\n",
       "      <td>0.000000</td>\n",
       "      <td>0.000000</td>\n",
       "      <td>0.000000</td>\n",
       "      <td>0.000000</td>\n",
       "      <td>4.000000</td>\n",
       "      <td>0.000000</td>\n",
       "      <td>0.000000</td>\n",
       "      <td>290.000000</td>\n",
       "      <td>2.843500e+03</td>\n",
       "      <td>0.000000</td>\n",
       "      <td>35607.750000</td>\n",
       "      <td>400.000000</td>\n",
       "      <td>0.000000</td>\n",
       "      <td>0.000000</td>\n",
       "      <td>0.000000</td>\n",
       "      <td>55130.000000</td>\n",
       "      <td>55430.000000</td>\n",
       "      <td>13945.000000</td>\n",
       "      <td>70590.000000</td>\n",
       "    </tr>\n",
       "    <tr>\n",
       "      <th>50%</th>\n",
       "      <td>9777.500000</td>\n",
       "      <td>2018.000000</td>\n",
       "      <td>1.0</td>\n",
       "      <td>0.000000</td>\n",
       "      <td>0.000000</td>\n",
       "      <td>4.000000</td>\n",
       "      <td>6.000000</td>\n",
       "      <td>1340.000000</td>\n",
       "      <td>0.000000</td>\n",
       "      <td>0.000000</td>\n",
       "      <td>0.000000</td>\n",
       "      <td>1.000000</td>\n",
       "      <td>0.000000</td>\n",
       "      <td>0.000000</td>\n",
       "      <td>1.000000</td>\n",
       "      <td>0.000000</td>\n",
       "      <td>0.000000</td>\n",
       "      <td>0.000000</td>\n",
       "      <td>0.000000</td>\n",
       "      <td>0.000000</td>\n",
       "      <td>0.000000</td>\n",
       "      <td>0.000000</td>\n",
       "      <td>0.000000</td>\n",
       "      <td>0.000000</td>\n",
       "      <td>0.000000</td>\n",
       "      <td>0.000000</td>\n",
       "      <td>0.000000</td>\n",
       "      <td>0.000000</td>\n",
       "      <td>0.000000</td>\n",
       "      <td>0.00000</td>\n",
       "      <td>1.000000</td>\n",
       "      <td>0.000000</td>\n",
       "      <td>0.000000</td>\n",
       "      <td>0.000000</td>\n",
       "      <td>0.000000</td>\n",
       "      <td>0.000000</td>\n",
       "      <td>0.000000</td>\n",
       "      <td>6.000000</td>\n",
       "      <td>1.000000</td>\n",
       "      <td>1.000000</td>\n",
       "      <td>11778.000000</td>\n",
       "      <td>1.434700e+04</td>\n",
       "      <td>0.000000</td>\n",
       "      <td>60743.000000</td>\n",
       "      <td>400.000000</td>\n",
       "      <td>0.000000</td>\n",
       "      <td>0.000000</td>\n",
       "      <td>0.000000</td>\n",
       "      <td>57300.000000</td>\n",
       "      <td>57600.000000</td>\n",
       "      <td>14415.000000</td>\n",
       "      <td>73230.000000</td>\n",
       "    </tr>\n",
       "    <tr>\n",
       "      <th>75%</th>\n",
       "      <td>14665.750000</td>\n",
       "      <td>2019.000000</td>\n",
       "      <td>1.0</td>\n",
       "      <td>1.000000</td>\n",
       "      <td>0.000000</td>\n",
       "      <td>5.000000</td>\n",
       "      <td>8.000000</td>\n",
       "      <td>1420.000000</td>\n",
       "      <td>0.000000</td>\n",
       "      <td>0.000000</td>\n",
       "      <td>0.000000</td>\n",
       "      <td>1.000000</td>\n",
       "      <td>1.000000</td>\n",
       "      <td>0.000000</td>\n",
       "      <td>1.000000</td>\n",
       "      <td>0.000000</td>\n",
       "      <td>0.000000</td>\n",
       "      <td>0.000000</td>\n",
       "      <td>0.000000</td>\n",
       "      <td>0.000000</td>\n",
       "      <td>0.000000</td>\n",
       "      <td>0.000000</td>\n",
       "      <td>0.000000</td>\n",
       "      <td>0.000000</td>\n",
       "      <td>0.000000</td>\n",
       "      <td>0.000000</td>\n",
       "      <td>0.000000</td>\n",
       "      <td>1.000000</td>\n",
       "      <td>0.000000</td>\n",
       "      <td>0.00000</td>\n",
       "      <td>1.000000</td>\n",
       "      <td>1.000000</td>\n",
       "      <td>0.000000</td>\n",
       "      <td>0.000000</td>\n",
       "      <td>1.000000</td>\n",
       "      <td>0.000000</td>\n",
       "      <td>1.000000</td>\n",
       "      <td>9.000000</td>\n",
       "      <td>1.000000</td>\n",
       "      <td>1.000000</td>\n",
       "      <td>40166.500000</td>\n",
       "      <td>3.938325e+04</td>\n",
       "      <td>57171.750000</td>\n",
       "      <td>72015.500000</td>\n",
       "      <td>400.000000</td>\n",
       "      <td>0.000000</td>\n",
       "      <td>0.000000</td>\n",
       "      <td>0.000000</td>\n",
       "      <td>59465.000000</td>\n",
       "      <td>59850.000000</td>\n",
       "      <td>14815.000000</td>\n",
       "      <td>75880.000000</td>\n",
       "    </tr>\n",
       "    <tr>\n",
       "      <th>max</th>\n",
       "      <td>19554.000000</td>\n",
       "      <td>2019.000000</td>\n",
       "      <td>1.0</td>\n",
       "      <td>1.000000</td>\n",
       "      <td>1.000000</td>\n",
       "      <td>5.000000</td>\n",
       "      <td>10.000000</td>\n",
       "      <td>1600.000000</td>\n",
       "      <td>1.000000</td>\n",
       "      <td>1.000000</td>\n",
       "      <td>1.000000</td>\n",
       "      <td>1.000000</td>\n",
       "      <td>1.000000</td>\n",
       "      <td>1.000000</td>\n",
       "      <td>1.000000</td>\n",
       "      <td>1.000000</td>\n",
       "      <td>1.000000</td>\n",
       "      <td>1.000000</td>\n",
       "      <td>1.000000</td>\n",
       "      <td>1.000000</td>\n",
       "      <td>1.000000</td>\n",
       "      <td>1.000000</td>\n",
       "      <td>1.000000</td>\n",
       "      <td>1.000000</td>\n",
       "      <td>1.000000</td>\n",
       "      <td>1.000000</td>\n",
       "      <td>1.000000</td>\n",
       "      <td>1.000000</td>\n",
       "      <td>1.000000</td>\n",
       "      <td>1.00000</td>\n",
       "      <td>1.000000</td>\n",
       "      <td>1.000000</td>\n",
       "      <td>1.000000</td>\n",
       "      <td>1.000000</td>\n",
       "      <td>1.000000</td>\n",
       "      <td>1.000000</td>\n",
       "      <td>1.000000</td>\n",
       "      <td>23.000000</td>\n",
       "      <td>1.000000</td>\n",
       "      <td>1.000000</td>\n",
       "      <td>999999.000000</td>\n",
       "      <td>6.302885e+07</td>\n",
       "      <td>77590.000000</td>\n",
       "      <td>77590.000000</td>\n",
       "      <td>71420.000000</td>\n",
       "      <td>59065.000000</td>\n",
       "      <td>59450.000000</td>\n",
       "      <td>75480.000000</td>\n",
       "      <td>59465.000000</td>\n",
       "      <td>59850.000000</td>\n",
       "      <td>14815.000000</td>\n",
       "      <td>75880.000000</td>\n",
       "    </tr>\n",
       "  </tbody>\n",
       "</table>\n",
       "</div>"
      ],
      "text/plain": [
       "          RecordNUM        Period  bo_applied   bo_admitted  bo_enrollflag  rl_GPARating  rl_AcademicRating  rl_SuperScore_BestConcorded        bo_ED1        bo_ED2  bo_PathwayRecruit         bo_RD  bo_internationalstudent  bo_permresident  bo_UScitizen  bo_InStateResident  bo_TargetState1  bo_TargetState2  bo_TargetState3  bo_TargetState4  bo_TargetState5  bo_TargetState6  bo_IPEDS_AmerIndianAlaska  bo_IPEDS_Asian  bo_IPEDS_Black  bo_IPEDS_HawaiianPacificIslander  bo_IPEDS_hispanic  bo_IPEDS_White  bo_IPEDS_MultiRacial  bo_IPEDS_Unkown     bo_female       bo_male     bo_legacy  bo_testoptional  bo_FS_Stealth    bo_athlete  bo_CampusVisiPreMarch1  rl_TouchPointsBeforeAdmitted  bo_FAFSA_filer  bo_Profile_filer      rl_FM_EFC     rl_IM_TFC    rl_FM_need    rl_IM_need    rl_instaid  rl_tuitionrevenue  rl_tuitionfeesrevenue  rl_totalrevenue    rl_tuition  rl_tuitionfees  rl_roomboard  rl_directCOA\n",
       "count  19554.000000  19554.000000     19554.0  19554.000000   19554.000000   9169.000000       10069.000000                 14659.000000  19554.000000  19554.000000       19554.000000  19554.000000             19554.000000     19554.000000  19554.000000        19554.000000     19554.000000     19554.000000     19554.000000     19554.000000     19554.000000     19554.000000               19554.000000    19554.000000    19554.000000                      19554.000000       19554.000000    19554.000000          19554.000000      19554.00000  19554.000000  19554.000000  19554.000000     19554.000000   19554.000000  19554.000000            19554.000000                  19554.000000    19554.000000      19554.000000   10099.000000  1.073600e+04  19554.000000  10736.000000  19554.000000       19554.000000           19554.000000     19554.000000  19554.000000    19554.000000  19554.000000  19554.000000\n",
       "mean    9777.500000   2018.126317         1.0      0.323412       0.081262      3.704548           6.451187                  1328.436797      0.036463      0.023115           0.018206      0.922215                 0.292626         0.021479      0.685895            0.161706         0.146313         0.102537         0.035133         0.053646         0.039685         0.028230                   0.000767        0.231001        0.133783                          0.000921           0.165490        0.398793              0.032014          0.03723      0.538048      0.456377      0.042191         0.209778       0.491306      0.056050                0.300041                      6.770328        0.516569          0.553186   34813.152589  4.214321e+04  22884.272834  50945.274776   5642.390201        2590.918738            2617.636034      3885.933569  57572.009308    57907.680270  14444.992840  73567.673110\n",
       "std     5644.897918      0.834913         0.0      0.467790       0.273244      1.156995           1.895336                   130.783741      0.187444      0.150274           0.133699      0.267839                 0.454980         0.144978      0.464170            0.368190         0.353429         0.303360         0.184122         0.225324         0.195223         0.165632                   0.027687        0.421484        0.340428                          0.030327           0.371632        0.489663              0.176041          0.18933      0.498563      0.498106      0.201029         0.407161       0.499937      0.230024                0.458287                      3.938822        0.499738          0.497176   72627.985010  6.341559e+05  31166.961163  25696.798907  15057.351289       11327.653850           11397.224339     14943.125453   1809.565561     1846.982331    362.010516   2208.562957\n",
       "min        1.000000   2017.000000         1.0      0.000000       0.000000      1.000000           1.000000                   710.000000      0.000000      0.000000           0.000000      0.000000                 0.000000         0.000000      0.000000            0.000000         0.000000         0.000000         0.000000         0.000000         0.000000         0.000000                   0.000000        0.000000        0.000000                          0.000000           0.000000        0.000000              0.000000          0.00000      0.000000      0.000000      0.000000         0.000000       0.000000      0.000000                0.000000                      0.000000        0.000000          0.000000       0.000000  0.000000e+00      0.000000      0.000000    400.000000      -11955.000000          -11570.000000         0.000000  55130.000000    55430.000000  13945.000000  70590.000000\n",
       "25%     4889.250000   2017.000000         1.0      0.000000       0.000000      3.000000           5.000000                  1260.000000      0.000000      0.000000           0.000000      1.000000                 0.000000         0.000000      0.000000            0.000000         0.000000         0.000000         0.000000         0.000000         0.000000         0.000000                   0.000000        0.000000        0.000000                          0.000000           0.000000        0.000000              0.000000          0.00000      0.000000      0.000000      0.000000         0.000000       0.000000      0.000000                0.000000                      4.000000        0.000000          0.000000     290.000000  2.843500e+03      0.000000  35607.750000    400.000000           0.000000               0.000000         0.000000  55130.000000    55430.000000  13945.000000  70590.000000\n",
       "50%     9777.500000   2018.000000         1.0      0.000000       0.000000      4.000000           6.000000                  1340.000000      0.000000      0.000000           0.000000      1.000000                 0.000000         0.000000      1.000000            0.000000         0.000000         0.000000         0.000000         0.000000         0.000000         0.000000                   0.000000        0.000000        0.000000                          0.000000           0.000000        0.000000              0.000000          0.00000      1.000000      0.000000      0.000000         0.000000       0.000000      0.000000                0.000000                      6.000000        1.000000          1.000000   11778.000000  1.434700e+04      0.000000  60743.000000    400.000000           0.000000               0.000000         0.000000  57300.000000    57600.000000  14415.000000  73230.000000\n",
       "75%    14665.750000   2019.000000         1.0      1.000000       0.000000      5.000000           8.000000                  1420.000000      0.000000      0.000000           0.000000      1.000000                 1.000000         0.000000      1.000000            0.000000         0.000000         0.000000         0.000000         0.000000         0.000000         0.000000                   0.000000        0.000000        0.000000                          0.000000           0.000000        1.000000              0.000000          0.00000      1.000000      1.000000      0.000000         0.000000       1.000000      0.000000                1.000000                      9.000000        1.000000          1.000000   40166.500000  3.938325e+04  57171.750000  72015.500000    400.000000           0.000000               0.000000         0.000000  59465.000000    59850.000000  14815.000000  75880.000000\n",
       "max    19554.000000   2019.000000         1.0      1.000000       1.000000      5.000000          10.000000                  1600.000000      1.000000      1.000000           1.000000      1.000000                 1.000000         1.000000      1.000000            1.000000         1.000000         1.000000         1.000000         1.000000         1.000000         1.000000                   1.000000        1.000000        1.000000                          1.000000           1.000000        1.000000              1.000000          1.00000      1.000000      1.000000      1.000000         1.000000       1.000000      1.000000                1.000000                     23.000000        1.000000          1.000000  999999.000000  6.302885e+07  77590.000000  77590.000000  71420.000000       59065.000000           59450.000000     75480.000000  59465.000000    59850.000000  14815.000000  75880.000000"
      ]
     },
     "execution_count": 10,
     "metadata": {},
     "output_type": "execute_result"
    }
   ],
   "source": [
    "data.describe()"
   ]
  },
  {
   "cell_type": "code",
   "execution_count": 11,
   "metadata": {},
   "outputs": [],
   "source": [
    "#(data.isnull().sum()/data.shape[0]).sort_values(ascending=False)\n",
    "cols=['rl_GPARating','rl_AcademicRating','rl_FM_EFC','rl_IM_need','rl_IM_TFC','rl_SuperScore_BestConcorded']\n",
    "for col in cols:\n",
    "    data[col] = data[col].fillna(data[col].mean())"
   ]
  },
  {
   "cell_type": "code",
   "execution_count": 12,
   "metadata": {},
   "outputs": [],
   "source": [
    "useless_cols=['rl_tuitionrevenue', 'rl_tuitionfeesrevenue', 'rl_totalrevenue', 'rl_tuition', 'rl_tuitionfees', \n",
    "              'rl_roomboard','rl_directCOA']\n",
    "data.drop(useless_cols,axis=1,inplace=True)"
   ]
  },
  {
   "cell_type": "code",
   "execution_count": 13,
   "metadata": {
    "scrolled": false
   },
   "outputs": [
    {
     "data": {
      "text/plain": [
       "Index(['RecordNUM', 'Period', 'bo_applied', 'bo_admitted', 'bo_enrollflag', 'rl_GPARating', 'rl_AcademicRating', 'rl_SuperScore_BestConcorded', 'bo_ED1', 'bo_ED2', 'bo_PathwayRecruit', 'bo_RD', 'bo_internationalstudent', 'bo_permresident', 'bo_UScitizen', 'bo_InStateResident', 'bo_TargetState1', 'bo_TargetState2', 'bo_TargetState3', 'bo_TargetState4', 'bo_TargetState5', 'bo_TargetState6', 'bo_IPEDS_AmerIndianAlaska', 'bo_IPEDS_Asian', 'bo_IPEDS_Black', 'bo_IPEDS_HawaiianPacificIslander', 'bo_IPEDS_hispanic', 'bo_IPEDS_White', 'bo_IPEDS_MultiRacial', 'bo_IPEDS_Unkown', 'bo_female', 'bo_male', 'bo_legacy', 'bo_testoptional', 'bo_FS_Stealth', 'bo_athlete', 'bo_CampusVisiPreMarch1', 'rl_TouchPointsBeforeAdmitted', 'bo_FAFSA_filer', 'bo_Profile_filer', 'rl_FM_EFC', 'rl_IM_TFC', 'rl_FM_need', 'rl_IM_need', 'rl_instaid'], dtype='object')"
      ]
     },
     "execution_count": 13,
     "metadata": {},
     "output_type": "execute_result"
    }
   ],
   "source": [
    "data.columns"
   ]
  },
  {
   "cell_type": "code",
   "execution_count": 107,
   "metadata": {
    "scrolled": false
   },
   "outputs": [],
   "source": [
    "from sklearn.linear_model import LogisticRegression\n",
    "from sklearn.model_selection import train_test_split\n",
    "from sklearn.metrics import precision_score, recall_score, roc_auc_score, roc_curve\n",
    "from sklearn import metrics"
   ]
  },
  {
   "cell_type": "code",
   "execution_count": 170,
   "metadata": {},
   "outputs": [],
   "source": [
    "X=data.drop(['RecordNUM', 'Period','bo_enrollflag'],axis=1)\n",
    "y=data['bo_enrollflag']"
   ]
  },
  {
   "cell_type": "code",
   "execution_count": 171,
   "metadata": {},
   "outputs": [],
   "source": [
    "X_train, X_test, y_train, y_test = train_test_split(X, y, test_size=0.33, random_state=42)"
   ]
  },
  {
   "cell_type": "code",
   "execution_count": 172,
   "metadata": {
    "scrolled": true
   },
   "outputs": [
    {
     "data": {
      "text/plain": [
       "LogisticRegression(C=1.0, class_weight=None, dual=False, fit_intercept=True,\n",
       "                   intercept_scaling=1, l1_ratio=None, max_iter=100,\n",
       "                   multi_class='auto', n_jobs=None, penalty='l2',\n",
       "                   random_state=None, solver='lbfgs', tol=0.0001, verbose=0,\n",
       "                   warm_start=False)"
      ]
     },
     "execution_count": 172,
     "metadata": {},
     "output_type": "execute_result"
    }
   ],
   "source": [
    "logreg = LogisticRegression()\n",
    "logreg.fit(X_train, y_train)"
   ]
  },
  {
   "cell_type": "code",
   "execution_count": 173,
   "metadata": {},
   "outputs": [],
   "source": [
    "y_pred_log = logreg.predict(X_test)"
   ]
  },
  {
   "cell_type": "code",
   "execution_count": 174,
   "metadata": {},
   "outputs": [
    {
     "name": "stdout",
     "output_type": "stream",
     "text": [
      "Accuracy of logistic regression classifier on test set: 0.92\n"
     ]
    }
   ],
   "source": [
    "print('Accuracy of logistic regression classifier on test set: {:.2f}'.format(logreg.score(X_test, y_test)))"
   ]
  },
  {
   "cell_type": "code",
   "execution_count": 175,
   "metadata": {
    "scrolled": true
   },
   "outputs": [
    {
     "name": "stdout",
     "output_type": "stream",
     "text": [
      "Area under curve of logistic regression classifier on test set: 0.78\n"
     ]
    }
   ],
   "source": [
    "AUC_log=roc_auc_score(y_pred_log, y_test)\n",
    "print('Area under curve of logistic regression classifier on test set: {:.2f}'.format(AUC_log))"
   ]
  },
  {
   "cell_type": "code",
   "execution_count": 176,
   "metadata": {},
   "outputs": [
    {
     "data": {
      "text/plain": [
       "MinMaxScaler(copy=True, feature_range=(0, 1))"
      ]
     },
     "execution_count": 176,
     "metadata": {},
     "output_type": "execute_result"
    }
   ],
   "source": [
    "from sklearn.preprocessing import MinMaxScaler\n",
    "\n",
    "scaler = MinMaxScaler(feature_range = (0,1))\n",
    "\n",
    "scaler.fit(X_train)\n",
    "X_train = scaler.transform(X_train)\n",
    "X_test = scaler.transform(X_test)"
   ]
  },
  {
   "cell_type": "code",
   "execution_count": 177,
   "metadata": {},
   "outputs": [
    {
     "data": {
      "text/plain": [
       "LogisticRegression(C=1.0, class_weight=None, dual=False, fit_intercept=True,\n",
       "                   intercept_scaling=1, l1_ratio=None, max_iter=100,\n",
       "                   multi_class='auto', n_jobs=None, penalty='l2',\n",
       "                   random_state=None, solver='lbfgs', tol=0.0001, verbose=0,\n",
       "                   warm_start=False)"
      ]
     },
     "execution_count": 177,
     "metadata": {},
     "output_type": "execute_result"
    }
   ],
   "source": [
    "logreg_best = LogisticRegression()\n",
    "logreg_best.fit(X_train, y_train)"
   ]
  },
  {
   "cell_type": "code",
   "execution_count": 178,
   "metadata": {},
   "outputs": [],
   "source": [
    "y_pred_logreg_best = logreg_best.predict(X_test)"
   ]
  },
  {
   "cell_type": "code",
   "execution_count": 179,
   "metadata": {},
   "outputs": [
    {
     "name": "stdout",
     "output_type": "stream",
     "text": [
      "Accuracy of logistic regression classifier after standardization on test set: 0.96\n"
     ]
    }
   ],
   "source": [
    "print('Accuracy of logistic regression classifier after standardization on test set: {:.2f}'.format(logreg_best.score(X_test, y_test)))"
   ]
  },
  {
   "cell_type": "code",
   "execution_count": 180,
   "metadata": {},
   "outputs": [
    {
     "name": "stdout",
     "output_type": "stream",
     "text": [
      "Area under curve of logistic regression classifier after standardization on test set: 0.58\n"
     ]
    }
   ],
   "source": [
    "AUC_logreg_with_Stan=roc_auc_score(y_pred, y_test)\n",
    "print('Area under curve of logistic regression classifier after standardization on test set: {:.2f}'.format(AUC_logreg_with_Stan))"
   ]
  },
  {
   "cell_type": "code",
   "execution_count": null,
   "metadata": {},
   "outputs": [],
   "source": []
  },
  {
   "cell_type": "code",
   "execution_count": null,
   "metadata": {},
   "outputs": [],
   "source": []
  },
  {
   "cell_type": "code",
   "execution_count": 181,
   "metadata": {},
   "outputs": [
    {
     "data": {
      "text/plain": [
       "RandomForestClassifier(bootstrap=True, ccp_alpha=0.0, class_weight=None,\n",
       "                       criterion='gini', max_depth=None, max_features='auto',\n",
       "                       max_leaf_nodes=None, max_samples=None,\n",
       "                       min_impurity_decrease=0.0, min_impurity_split=None,\n",
       "                       min_samples_leaf=1, min_samples_split=2,\n",
       "                       min_weight_fraction_leaf=0.0, n_estimators=100,\n",
       "                       n_jobs=None, oob_score=False, random_state=None,\n",
       "                       verbose=0, warm_start=False)"
      ]
     },
     "execution_count": 181,
     "metadata": {},
     "output_type": "execute_result"
    }
   ],
   "source": [
    "from sklearn.ensemble import RandomForestClassifier\n",
    "regr = RandomForestClassifier()\n",
    "regr.fit(X_train, y_train)"
   ]
  },
  {
   "cell_type": "code",
   "execution_count": 182,
   "metadata": {},
   "outputs": [
    {
     "name": "stdout",
     "output_type": "stream",
     "text": [
      "Accuracy of random forest classifier on test set: 0.95\n"
     ]
    }
   ],
   "source": [
    "y_pred_rf = regr.predict(X_test)\n",
    "print('Accuracy of random forest classifier on test set: {:.2f}'.format(regr.score(X_test, y_test)))"
   ]
  },
  {
   "cell_type": "code",
   "execution_count": 183,
   "metadata": {},
   "outputs": [
    {
     "name": "stdout",
     "output_type": "stream",
     "text": [
      "Area under curve of logistic regression classifier on test set: 0.92\n"
     ]
    }
   ],
   "source": [
    "AUC_rf=roc_auc_score(y_pred_rf, y_test)\n",
    "print('Area under curve of logistic regression classifier on test set: {:.2f}'.format(AUC_rf))"
   ]
  },
  {
   "cell_type": "code",
   "execution_count": 122,
   "metadata": {},
   "outputs": [],
   "source": [
    "from imblearn.over_sampling import SMOTE\n",
    "\n",
    "X_train, X_test, y_train, y_test = train_test_split(X, y, test_size = 0.2, random_state = 10)\n",
    "\n",
    "sm = SMOTE(random_state = 2)\n",
    "X_train_res, y_train_res = sm.fit_sample(X_train, y_train.ravel())"
   ]
  },
  {
   "cell_type": "code",
   "execution_count": 123,
   "metadata": {},
   "outputs": [
    {
     "data": {
      "text/plain": [
       "RandomForestClassifier(bootstrap=True, ccp_alpha=0.0, class_weight=None,\n",
       "                       criterion='gini', max_depth=None, max_features='auto',\n",
       "                       max_leaf_nodes=None, max_samples=None,\n",
       "                       min_impurity_decrease=0.0, min_impurity_split=None,\n",
       "                       min_samples_leaf=1, min_samples_split=2,\n",
       "                       min_weight_fraction_leaf=0.0, n_estimators=100,\n",
       "                       n_jobs=None, oob_score=False, random_state=None,\n",
       "                       verbose=0, warm_start=False)"
      ]
     },
     "execution_count": 123,
     "metadata": {},
     "output_type": "execute_result"
    }
   ],
   "source": [
    "regr_resampling = RandomForestClassifier()\n",
    "regr_resampling.fit(X_train_res, y_train_res)"
   ]
  },
  {
   "cell_type": "code",
   "execution_count": 124,
   "metadata": {},
   "outputs": [
    {
     "name": "stdout",
     "output_type": "stream",
     "text": [
      "Accuracy of random forest classifier after resampling on test set: 0.95\n"
     ]
    }
   ],
   "source": [
    "y_pred_rf_resam = regr_resampling.predict(X_test)\n",
    "print('Accuracy of random forest classifier after resampling on test set: {:.2f}'.format(regr_resampling.score(X_test, y_test)))"
   ]
  },
  {
   "cell_type": "code",
   "execution_count": 125,
   "metadata": {},
   "outputs": [
    {
     "name": "stdout",
     "output_type": "stream",
     "text": [
      "Area under curve of logistic regression classifier after resampling on test set: 0.86\n"
     ]
    }
   ],
   "source": [
    "AUC_resampling=roc_auc_score(y_pred_rf_resam, y_test)\n",
    "print('Area under curve of logistic regression classifier after resampling on test set: {:.2f}'.format(AUC_resampling))"
   ]
  },
  {
   "cell_type": "code",
   "execution_count": 184,
   "metadata": {},
   "outputs": [
    {
     "data": {
      "text/plain": [
       "GradientBoostingClassifier(ccp_alpha=0.0, criterion='friedman_mse', init=None,\n",
       "                           learning_rate=0.1, loss='deviance', max_depth=3,\n",
       "                           max_features=None, max_leaf_nodes=None,\n",
       "                           min_impurity_decrease=0.0, min_impurity_split=None,\n",
       "                           min_samples_leaf=1, min_samples_split=2,\n",
       "                           min_weight_fraction_leaf=0.0, n_estimators=100,\n",
       "                           n_iter_no_change=None, presort='deprecated',\n",
       "                           random_state=0, subsample=1.0, tol=0.0001,\n",
       "                           validation_fraction=0.1, verbose=0,\n",
       "                           warm_start=False)"
      ]
     },
     "execution_count": 184,
     "metadata": {},
     "output_type": "execute_result"
    }
   ],
   "source": [
    "from sklearn.ensemble import GradientBoostingClassifier\n",
    "xgb = GradientBoostingClassifier(random_state=0)\n",
    "xgb.fit(X_train, y_train)"
   ]
  },
  {
   "cell_type": "code",
   "execution_count": 185,
   "metadata": {},
   "outputs": [
    {
     "data": {
      "text/plain": [
       "0.9549046954904695"
      ]
     },
     "execution_count": 185,
     "metadata": {},
     "output_type": "execute_result"
    }
   ],
   "source": [
    "xgb.score(X_test, y_test)"
   ]
  },
  {
   "cell_type": "code",
   "execution_count": 186,
   "metadata": {},
   "outputs": [
    {
     "name": "stdout",
     "output_type": "stream",
     "text": [
      "Accuracy of Gradient Boosting classifier on test set: 0.95\n"
     ]
    }
   ],
   "source": [
    "y_pred_xgb = reg.predict(X_test)\n",
    "print('Accuracy of Gradient Boosting classifier on test set: {:.2f}'.format(xgb.score(X_test, y_test)))"
   ]
  },
  {
   "cell_type": "code",
   "execution_count": 187,
   "metadata": {},
   "outputs": [
    {
     "name": "stdout",
     "output_type": "stream",
     "text": [
      "Area under curve of Gradient Boosting classifier on test set: 0.84\n"
     ]
    }
   ],
   "source": [
    "AUC_xgb=roc_auc_score(y_pred_xgb, y_test)\n",
    "print('Area under curve of Gradient Boosting classifier on test set: {:.2f}'.format(AUC_xgb))"
   ]
  },
  {
   "cell_type": "code",
   "execution_count": 188,
   "metadata": {
    "scrolled": false
   },
   "outputs": [
    {
     "name": "stdout",
     "output_type": "stream",
     "text": [
      "Accuracy of logistic regression classifier on test set: 0.62\n",
      "Area under curve of logistic regression classifier on test set: 0.78\n",
      "\n",
      "Accuracy of logistic regression classifier after standardization on test set: 0.96\n",
      "Area under curve of logistic regression classifier after standardization on test set: 0.58\n",
      "\n",
      "Accuracy of random forest classifier on test set: 0.95\n",
      "Area under curve of logistic regression classifier on test set: 0.92\n",
      "\n",
      "Accuracy of random forest classifier after resampling on test set: 0.95\n",
      "Area under curve of logistic regression classifier after resampling on test set: 0.86\n",
      "\n",
      "Accuracy of Gradient Boosting classifier on test set: 0.95\n",
      "Area under curve of Gradient Boosting classifier on test set: 0.84\n"
     ]
    }
   ],
   "source": [
    "print('Accuracy of logistic regression classifier on test set: {:.2f}'.format(logreg.score(X_test, y_test)))\n",
    "print('Area under curve of logistic regression classifier on test set: {:.2f}\\n'.format(AUC_log)) \n",
    "\n",
    "\n",
    "print('Accuracy of logistic regression classifier after standardization on test set: {:.2f}'.format(logreg_best.score(X_test, y_test)))\n",
    "print('Area under curve of logistic regression classifier after standardization on test set: {:.2f}\\n'.format(AUC_logreg_with_Stan))\n",
    "\n",
    "print('Accuracy of random forest classifier on test set: {:.2f}'.format(regr.score(X_test, y_test)))\n",
    "print('Area under curve of logistic regression classifier on test set: {:.2f}\\n'.format(AUC_rf))\n",
    "\n",
    "print('Accuracy of random forest classifier after resampling on test set: {:.2f}'.format(regr_resampling.score(X_test, y_test)))\n",
    "print('Area under curve of logistic regression classifier after resampling on test set: {:.2f}\\n'.format(AUC_resampling))\n",
    "\n",
    "print('Accuracy of Gradient Boosting classifier on test set: {:.2f}'.format(xgb.score(X_test, y_test)))\n",
    "print('Area under curve of Gradient Boosting classifier on test set: {:.2f}'.format(AUC_xgb))"
   ]
  },
  {
   "cell_type": "code",
   "execution_count": 189,
   "metadata": {},
   "outputs": [],
   "source": [
    "def evaluate_model(predictions, probs, train_predictions, train_probs):\n",
    "    baseline = {}\n",
    "    \n",
    "    baseline['recall'] = recall_score(y_test, [1 for _ in range(len(y_test))])\n",
    "    baseline['precision'] = precision_score(y_test, [1 for _ in range(len(y_test))])\n",
    "    baseline['roc'] = 0.5\n",
    "\n",
    "    results = {}\n",
    "    \n",
    "    results['recall'] = recall_score(y_test, predictions)\n",
    "    results['precision'] = precision_score(y_test, predictions)\n",
    "    results['roc'] = roc_auc_score(y_test, probs)\n",
    "\n",
    "    train_results = {}\n",
    "    train_results['recall'] = recall_score(y_train, train_predictions)\n",
    "    train_results['precision'] = precision_score(y_train, train_predictions)\n",
    "    train_results['roc'] = roc_auc_score(y_train, train_probs)\n",
    "    \n",
    "    for metric in ['recall', 'precision', 'roc']:\n",
    "        print(f'{metric.capitalize()} Baseline: {round(baseline[metric], 2)} Test: {round(results[metric], 2)} Train: {round(train_results[metric], 2)}')\n",
    " \n",
    "    base_fpr, base_tpr, _ = roc_curve(y_test, [1 for _ in range(len(y_test))])\n",
    "    model_fpr, model_tpr, _ = roc_curve(y_test, probs)\n",
    "\n",
    "    plt.figure(figsize = (8, 6))\n",
    "    plt.rcParams['font.size'] = 16\n",
    "\n",
    "    plt.plot(base_fpr, base_tpr, 'b', label = 'baseline')\n",
    "    plt.plot(model_fpr, model_tpr, 'r', label = 'model')\n",
    "    plt.legend();\n",
    "    plt.xlabel('False Positive Rate'); plt.ylabel('True Positive Rate'); plt.title('ROC Curves')"
   ]
  },
  {
   "cell_type": "code",
   "execution_count": 190,
   "metadata": {},
   "outputs": [],
   "source": [
    "from sklearn.metrics import confusion_matrix\n",
    "import itertools\n",
    "\n",
    "def plot_confusion_matrix(cm, classes,\n",
    "                          normalize=False,\n",
    "                          title='Confusion matrix',\n",
    "                          cmap=plt.cm.Oranges):\n",
    "    \"\"\"\n",
    "    This function prints and plots the confusion matrix.\n",
    "    Normalization can be applied by setting `normalize=True`.\n",
    "    Source: http://scikit-learn.org/stable/auto_examples/model_selection/plot_confusion_matrix.html\n",
    "    \"\"\"\n",
    "    if normalize:\n",
    "        cm = cm.astype('float') / cm.sum(axis=1)[:, np.newaxis]\n",
    "        print(\"Normalized confusion matrix\")\n",
    "    else:\n",
    "        print('Confusion matrix, without normalization')\n",
    "\n",
    "    print(cm)\n",
    "\n",
    "    plt.figure(figsize = (10, 10))\n",
    "    plt.imshow(cm, interpolation='nearest', cmap=cmap)\n",
    "    plt.title(title, size = 24)\n",
    "    plt.colorbar(aspect=4)\n",
    "    tick_marks = np.arange(len(classes))\n",
    "    plt.xticks(tick_marks, classes, rotation=45, size = 20)\n",
    "    plt.yticks(tick_marks, classes, size = 20)\n",
    "\n",
    "    fmt = '.2f' if normalize else 'd'\n",
    "    thresh = cm.max() / 2.\n",
    "    \n",
    "    # Labeling the plot\n",
    "    for i, j in itertools.product(range(cm.shape[0]), range(cm.shape[1])):\n",
    "        plt.text(j, i, format(cm[i, j], fmt), fontsize = 30,\n",
    "                 horizontalalignment=\"center\",\n",
    "                 color=\"white\" if cm[i, j] > thresh else \"black\")\n",
    "        \n",
    "    plt.grid(None)\n",
    "    plt.tight_layout()\n",
    "    plt.ylabel('True label', size = 20)\n",
    "    plt.xlabel('Predicted label', size = 20)"
   ]
  },
  {
   "cell_type": "code",
   "execution_count": 197,
   "metadata": {},
   "outputs": [
    {
     "name": "stdout",
     "output_type": "stream",
     "text": [
      "Confusion matrix, without normalization\n",
      "[[5875   26]\n",
      " [ 265  287]]\n"
     ]
    },
    {
     "data": {
      "image/png": "[encoded data removed]",
      "text/plain": [
       "<Figure size 720x720 with 2 Axes>"
      ]
     },
     "metadata": {
      "needs_background": "light"
     },
     "output_type": "display_data"
    }
   ],
   "source": [
    "cm = confusion_matrix(y_test, xgb.predict(X_test))\n",
    "plot_confusion_matrix(cm, classes = ['0','1'],\n",
    "                      title = 'Enroll status')"
   ]
  },
  {
   "cell_type": "code",
   "execution_count": 192,
   "metadata": {},
   "outputs": [
    {
     "name": "stdout",
     "output_type": "stream",
     "text": [
      "Recall Baseline: 1.0 Test: 0.51 Train: 0.99\n",
      "Precision Baseline: 0.09 Test: 0.89 Train: 1.0\n",
      "Roc Baseline: 0.5 Test: 0.95 Train: 1.0\n"
     ]
    },
    {
     "data": {
      "image/png": "[encoded data removed]",
      "text/plain": [
       "<Figure size 576x432 with 1 Axes>"
      ]
     },
     "metadata": {
      "needs_background": "light"
     },
     "output_type": "display_data"
    }
   ],
   "source": [
    "train_probs = regr.predict_proba(X_train)[:,1]\n",
    "probs = regr.predict_proba(X_test)[:,1]\n",
    "train_predictions = regr.predict(X_train)\n",
    "predictions = regr.predict(X_test)\n",
    "evaluate_model(predictions, probs, train_predictions, train_probs)"
   ]
  },
  {
   "cell_type": "code",
   "execution_count": null,
   "metadata": {},
   "outputs": [],
   "source": []
  }
 ],
 "metadata": {
  "kernelspec": {
   "display_name": "Python 3",
   "language": "python",
   "name": "python3"
  },
  "language_info": {
   "codemirror_mode": {
    "name": "ipython",
    "version": 3
   },
   "file_extension": ".py",
   "mimetype": "text/x-python",
   "name": "python",
   "nbconvert_exporter": "python",
   "pygments_lexer": "ipython3",
   "version": "3.7.6"
  }
 },
 "nbformat": 4,
 "nbformat_minor": 4
}
